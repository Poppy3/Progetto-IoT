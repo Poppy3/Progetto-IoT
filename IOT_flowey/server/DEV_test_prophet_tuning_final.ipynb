{
 "cells": [
  {
   "cell_type": "code",
   "execution_count": 1,
   "metadata": {
    "collapsed": true
   },
   "outputs": [],
   "source": [
    "import pandas as pd\n",
    "import matplotlib.pyplot as plt\n",
    "import datetime as datetime\n",
    "from fbprophet import Prophet"
   ]
  },
  {
   "cell_type": "code",
   "execution_count": 2,
   "outputs": [
    {
     "data": {
      "text/plain": "      bridge_id        creation_date  dht_humidity  dht_temperature  \\\n0  RASPBERRY001  2021-04-02T00:29:21            76               23   \n1  RASPBERRY001  2021-04-02T00:39:22            80               23   \n2  RASPBERRY001  2021-04-02T00:59:19            81               23   \n3  RASPBERRY001  2021-04-01T22:46:47            71               24   \n4  RASPBERRY001  2021-04-01T22:56:43            74               23   \n\n   gateway_id  humidity_1  humidity_2  humidity_3  id        last_modified  \\\n0  ARDUINO001         NaN         NaN         NaN   1  2021-04-01T22:29:21   \n1  ARDUINO001         NaN         NaN         NaN   2  2021-04-01T22:39:22   \n2  ARDUINO001         NaN         NaN         NaN   3  2021-04-01T22:59:20   \n3  ARDUINO001         NaN         NaN         NaN   4  2021-04-01T23:09:21   \n4  ARDUINO001         NaN         NaN         NaN   5  2021-04-01T23:09:21   \n\n   luminosity_1  luminosity_2                          plant_id  \\\n0            12            11  c5a3b03d82944886bb1fdb30612d5c5d   \n1            12            11  c5a3b03d82944886bb1fdb30612d5c5d   \n2            13            11  c5a3b03d82944886bb1fdb30612d5c5d   \n3            62            65  c5a3b03d82944886bb1fdb30612d5c5d   \n4            63            66  c5a3b03d82944886bb1fdb30612d5c5d   \n\n   plant_type_id  temperature  timestamp  \n0              1        24.47    1200549  \n1              1        24.47    1800823  \n2              1        24.29    3001370  \n3              1        24.55     600275  \n4              1        24.38    1200548  ",
      "text/html": "<div>\n<style scoped>\n    .dataframe tbody tr th:only-of-type {\n        vertical-align: middle;\n    }\n\n    .dataframe tbody tr th {\n        vertical-align: top;\n    }\n\n    .dataframe thead th {\n        text-align: right;\n    }\n</style>\n<table border=\"1\" class=\"dataframe\">\n  <thead>\n    <tr style=\"text-align: right;\">\n      <th></th>\n      <th>bridge_id</th>\n      <th>creation_date</th>\n      <th>dht_humidity</th>\n      <th>dht_temperature</th>\n      <th>gateway_id</th>\n      <th>humidity_1</th>\n      <th>humidity_2</th>\n      <th>humidity_3</th>\n      <th>id</th>\n      <th>last_modified</th>\n      <th>luminosity_1</th>\n      <th>luminosity_2</th>\n      <th>plant_id</th>\n      <th>plant_type_id</th>\n      <th>temperature</th>\n      <th>timestamp</th>\n    </tr>\n  </thead>\n  <tbody>\n    <tr>\n      <th>0</th>\n      <td>RASPBERRY001</td>\n      <td>2021-04-02T00:29:21</td>\n      <td>76</td>\n      <td>23</td>\n      <td>ARDUINO001</td>\n      <td>NaN</td>\n      <td>NaN</td>\n      <td>NaN</td>\n      <td>1</td>\n      <td>2021-04-01T22:29:21</td>\n      <td>12</td>\n      <td>11</td>\n      <td>c5a3b03d82944886bb1fdb30612d5c5d</td>\n      <td>1</td>\n      <td>24.47</td>\n      <td>1200549</td>\n    </tr>\n    <tr>\n      <th>1</th>\n      <td>RASPBERRY001</td>\n      <td>2021-04-02T00:39:22</td>\n      <td>80</td>\n      <td>23</td>\n      <td>ARDUINO001</td>\n      <td>NaN</td>\n      <td>NaN</td>\n      <td>NaN</td>\n      <td>2</td>\n      <td>2021-04-01T22:39:22</td>\n      <td>12</td>\n      <td>11</td>\n      <td>c5a3b03d82944886bb1fdb30612d5c5d</td>\n      <td>1</td>\n      <td>24.47</td>\n      <td>1800823</td>\n    </tr>\n    <tr>\n      <th>2</th>\n      <td>RASPBERRY001</td>\n      <td>2021-04-02T00:59:19</td>\n      <td>81</td>\n      <td>23</td>\n      <td>ARDUINO001</td>\n      <td>NaN</td>\n      <td>NaN</td>\n      <td>NaN</td>\n      <td>3</td>\n      <td>2021-04-01T22:59:20</td>\n      <td>13</td>\n      <td>11</td>\n      <td>c5a3b03d82944886bb1fdb30612d5c5d</td>\n      <td>1</td>\n      <td>24.29</td>\n      <td>3001370</td>\n    </tr>\n    <tr>\n      <th>3</th>\n      <td>RASPBERRY001</td>\n      <td>2021-04-01T22:46:47</td>\n      <td>71</td>\n      <td>24</td>\n      <td>ARDUINO001</td>\n      <td>NaN</td>\n      <td>NaN</td>\n      <td>NaN</td>\n      <td>4</td>\n      <td>2021-04-01T23:09:21</td>\n      <td>62</td>\n      <td>65</td>\n      <td>c5a3b03d82944886bb1fdb30612d5c5d</td>\n      <td>1</td>\n      <td>24.55</td>\n      <td>600275</td>\n    </tr>\n    <tr>\n      <th>4</th>\n      <td>RASPBERRY001</td>\n      <td>2021-04-01T22:56:43</td>\n      <td>74</td>\n      <td>23</td>\n      <td>ARDUINO001</td>\n      <td>NaN</td>\n      <td>NaN</td>\n      <td>NaN</td>\n      <td>5</td>\n      <td>2021-04-01T23:09:21</td>\n      <td>63</td>\n      <td>66</td>\n      <td>c5a3b03d82944886bb1fdb30612d5c5d</td>\n      <td>1</td>\n      <td>24.38</td>\n      <td>1200548</td>\n    </tr>\n  </tbody>\n</table>\n</div>"
     },
     "execution_count": 2,
     "metadata": {},
     "output_type": "execute_result"
    }
   ],
   "source": [
    "import ssl\n",
    "\n",
    "ssl._create_default_https_context = ssl._create_unverified_context\n",
    "\n",
    "HOSTED_APP_URL = 'https://iotproject.eu.pythonanywhere.com'\n",
    "API_PLANT_DATA = '/api/v1/plant_data'\n",
    "\n",
    "df_orig = pd.read_json(HOSTED_APP_URL + API_PLANT_DATA)\n",
    "df_orig.head(5)"
   ],
   "metadata": {
    "collapsed": false,
    "pycharm": {
     "name": "#%%\n"
    }
   }
  },
  {
   "cell_type": "code",
   "execution_count": 3,
   "outputs": [
    {
     "data": {
      "text/plain": "0    11.5\n1    11.5\n2    12.0\n3    63.5\n4    64.5\nName: luminosity_mean, dtype: float64"
     },
     "execution_count": 3,
     "metadata": {},
     "output_type": "execute_result"
    }
   ],
   "source": [
    "df_orig['luminosity_mean'] = df_orig[['luminosity_1', 'luminosity_2']].mean(axis=1)\n",
    "df_orig['luminosity_mean'].head(5)\n"
   ],
   "metadata": {
    "collapsed": false,
    "pycharm": {
     "name": "#%%\n"
    }
   }
  },
  {
   "cell_type": "code",
   "execution_count": 4,
   "outputs": [],
   "source": [
    "df_orig['humidity_mean'] = df_orig[['humidity_1', 'humidity_2', 'humidity_3']].mean(axis=1)\n",
    "df_orig['humidity_median'] = df_orig[['humidity_1', 'humidity_2', 'humidity_3']].median(axis=1)\n",
    "df_orig['creation_datetime'] = pd.to_datetime(df_orig['creation_date'])"
   ],
   "metadata": {
    "collapsed": false,
    "pycharm": {
     "name": "#%%\n"
    }
   }
  },
  {
   "cell_type": "code",
   "execution_count": 5,
   "outputs": [],
   "source": [
    "# keep from 10th may to 1st aug 2021\n",
    "\n",
    "df_trimmed = df_orig[(df_orig['creation_datetime'] > '2021-05-09') & (df_orig['creation_datetime'] < '2021-08-03')]\n",
    "# df_trimmed.head(5)"
   ],
   "metadata": {
    "collapsed": false,
    "pycharm": {
     "name": "#%%\n"
    }
   }
  },
  {
   "cell_type": "code",
   "execution_count": 6,
   "outputs": [],
   "source": [
    "from hampel import hampel\n",
    "from fbprophet.diagnostics import cross_validation\n",
    "from fbprophet.diagnostics import performance_metrics\n",
    "from fbprophet.plot import plot_cross_validation_metric\n",
    "import itertools"
   ],
   "metadata": {
    "collapsed": false,
    "pycharm": {
     "name": "#%%\n"
    }
   }
  },
  {
   "cell_type": "code",
   "execution_count": 7,
   "outputs": [],
   "source": [
    "df_trimmed = df_trimmed.reset_index(drop=True)"
   ],
   "metadata": {
    "collapsed": false,
    "pycharm": {
     "name": "#%%\n"
    }
   }
  },
  {
   "cell_type": "code",
   "execution_count": 8,
   "outputs": [],
   "source": [
    "df = pd.DataFrame(columns=['ds', 'y', 'luminosity', 'humidity'])\n",
    "df['ds'] = pd.to_datetime(df_trimmed['creation_date'])\n",
    "df['luminosity'] = hampel(df_trimmed['luminosity_mean'], window_size=5, n=3, imputation=True)\n",
    "df['humidity'] = hampel(df_trimmed['humidity_median'], window_size=5, n=3, imputation=True)"
   ],
   "metadata": {
    "collapsed": false,
    "pycharm": {
     "name": "#%%\n"
    }
   }
  },
  {
   "cell_type": "code",
   "execution_count": 9,
   "outputs": [],
   "source": [
    "df['y'] = df['luminosity']"
   ],
   "metadata": {
    "collapsed": false,
    "pycharm": {
     "name": "#%%\n"
    }
   }
  },
  {
   "cell_type": "code",
   "execution_count": 12,
   "outputs": [
    {
     "name": "stderr",
     "output_type": "stream",
     "text": [
      "INFO:fbprophet:Disabling yearly seasonality. Run prophet with yearly_seasonality=True to override this.\n"
     ]
    }
   ],
   "source": [
    "m = Prophet()\n",
    "m.fit(df)\n",
    "periods = 2*24*60//10\n",
    "future = m.make_future_dataframe(periods=periods, freq='10min')\n",
    "forecast = m.predict(future)"
   ],
   "metadata": {
    "collapsed": false,
    "pycharm": {
     "name": "#%%\n"
    }
   }
  },
  {
   "cell_type": "code",
   "execution_count": 13,
   "outputs": [],
   "source": [
    "def create_param_combinations(**param_dict):\n",
    "    param_iter = itertools.product(*param_dict.values())\n",
    "    params =[]\n",
    "    for param in param_iter:\n",
    "        params.append(param)\n",
    "    params_df = pd.DataFrame(params, columns=list(param_dict.keys()))\n",
    "    return params_df\n",
    "\n",
    "def single_cv_run(history_df, metrics, param_dict):\n",
    "    mdl = Prophet(**param_dict)\n",
    "    mdl.fit(history_df)\n",
    "    df_cvl = cross_validation(mdl, horizon='48 hours')\n",
    "    df_perf = performance_metrics(df_cvl).mean().to_frame().T\n",
    "    df_perf['params'] = str(param_dict)\n",
    "    df_perf = df_perf.loc[:, metrics]\n",
    "    return df_perf"
   ],
   "metadata": {
    "collapsed": false,
    "pycharm": {
     "name": "#%%\n"
    }
   }
  },
  {
   "cell_type": "code",
   "execution_count": 14,
   "outputs": [],
   "source": [
    "# The best param combination (found earlier in 2021) was\n",
    "# {'changepoint_prior_scale': 0.005,\n",
    "# 'changepoint_range': 0.9,\n",
    "# 'seasonality_prior_scale': 0.1,\n",
    "# 'seasonality_mode': 'additive'}\n",
    "\n",
    "param_grid = {\n",
    "                'changepoint_prior_scale': [0.001, 0.005, 0.010],\n",
    "                'changepoint_range': [0.85, 0.9, 0.95],\n",
    "                'seasonality_prior_scale':[0.05, 0.1, 0.5],\n",
    "                'seasonality_mode': ['additive'],\n",
    "              }\n",
    "metrics = ['horizon', 'rmse', 'mape', 'params']\n",
    "results = []\n",
    "params_df = create_param_combinations(**param_grid)"
   ],
   "metadata": {
    "collapsed": false,
    "pycharm": {
     "name": "#%%\n"
    }
   }
  },
  {
   "cell_type": "code",
   "execution_count": 15,
   "outputs": [],
   "source": [
    "# set var to True if you want to find hyper-params\n",
    "find_hyper_params = False\n",
    "if find_hyper_params:\n",
    "    for param in params_df.values:\n",
    "        param_dict = dict(zip(params_df.keys(), param))\n",
    "        cv_df = single_cv_run(df,  metrics, param_dict)\n",
    "        results.append(cv_df)\n",
    "    results_df = pd.concat(results).reset_index(drop=True)\n",
    "    best_param = results_df.loc[results_df['mape'] == min(results_df['mape']), ['params']]\n",
    "    print(f'\\n The best param combination is {best_param.values[0][0]}')\n",
    "    results_df.to_csv('results_hyperparam_final_cv.csv')\n",
    "    best_param.to_csv('best_results_final.csv')"
   ],
   "metadata": {
    "collapsed": false,
    "pycharm": {
     "name": "#%%\n"
    }
   }
  },
  {
   "cell_type": "code",
   "source": [
    "best_hyperparams = {\n",
    "'changepoint_prior_scale': 0.001,\n",
    "'changepoint_range': 0.9,\n",
    "'seasonality_prior_scale': 0.5,\n",
    "'seasonality_mode': 'additive'\n",
    "}"
   ],
   "metadata": {
    "collapsed": false,
    "pycharm": {
     "name": "#%%\n"
    }
   },
   "execution_count": 10,
   "outputs": []
  },
  {
   "cell_type": "code",
   "execution_count": 12,
   "outputs": [
    {
     "name": "stderr",
     "output_type": "stream",
     "text": [
      "INFO:fbprophet:Disabling yearly seasonality. Run prophet with yearly_seasonality=True to override this.\n"
     ]
    }
   ],
   "source": [
    "best_model = Prophet(**best_hyperparams)\n",
    "best_model.fit(df)\n",
    "periods = 2*24*60//10\n",
    "future = best_model.make_future_dataframe(periods=periods, freq='10min')\n",
    "forecast = best_model.predict(future)"
   ],
   "metadata": {
    "collapsed": false,
    "pycharm": {
     "name": "#%%\n"
    }
   }
  },
  {
   "cell_type": "code",
   "execution_count": null,
   "outputs": [],
   "source": [
    "fig1 = best_model.plot(forecast)\n",
    "fig2 = best_model.plot_components(forecast)"
   ],
   "metadata": {
    "collapsed": false,
    "pycharm": {
     "name": "#%%\n"
    }
   }
  }
 ],
 "metadata": {
  "kernelspec": {
   "name": "python3",
   "language": "python",
   "display_name": "Python 3"
  },
  "language_info": {
   "codemirror_mode": {
    "name": "ipython",
    "version": 2
   },
   "file_extension": ".py",
   "mimetype": "text/x-python",
   "name": "python",
   "nbconvert_exporter": "python",
   "pygments_lexer": "ipython2",
   "version": "2.7.6"
  }
 },
 "nbformat": 4,
 "nbformat_minor": 0
}